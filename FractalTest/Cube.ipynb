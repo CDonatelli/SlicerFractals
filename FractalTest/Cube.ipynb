{
 "cells": [
  {
   "cell_type": "code",
   "execution_count": 1,
   "id": "76df9ac7-c42a-4b94-a8fc-863b8233b890",
   "metadata": {},
   "outputs": [],
   "source": [
    "import numpy as np\n",
    "import SimpleITK as sitk\n",
    "\n",
    "# Define cube dimensions\n",
    "width = 64\n",
    "height = 64\n",
    "depth = 64\n",
    "\n",
    "# Create a 3D NumPy array filled with zeros\n",
    "cube_data = np.zeros((depth, height, width), dtype=np.uint8)\n",
    "\n",
    "# Set the cube's value to 1 within a specified region\n",
    "start_x, start_y, start_z = 16, 16, 16\n",
    "end_x, end_y, end_z = 48, 48, 48\n",
    "cube_data[start_z:end_z, start_y:end_y, start_x:end_x] = 1\n",
    "\n",
    "# Create a SimpleITK image from the NumPy array\n",
    "image = sitk.GetImageFromArray(cube_data)\n",
    "\n",
    "# Set image spacing (adjust as needed)\n",
    "image.SetSpacing([1.0, 1.0, 1.0])\n",
    "\n",
    "# Define the file path to save the NRRD file\n",
    "nrrd_file_path = \"cube.nrrd\"\n",
    "\n",
    "# Save the image in NRRD format\n",
    "sitk.WriteImage(image, nrrd_file_path)\n",
    "\n"
   ]
  },
  {
   "cell_type": "code",
   "execution_count": 2,
   "id": "0c3f7667-8747-406d-a9d3-76b5a8806138",
   "metadata": {},
   "outputs": [
    {
     "name": "stdout",
     "output_type": "stream",
     "text": [
      "Current Working Directory: /Users/annaharner/Documents/TeamFish/SlicerFractals\n"
     ]
    }
   ],
   "source": [
    "import os\n",
    "\n",
    "# Get and print the current working directory\n",
    "current_directory = os.getcwd()\n",
    "print(\"Current Working Directory:\", current_directory)\n"
   ]
  },
  {
   "cell_type": "code",
   "execution_count": null,
   "id": "802df900-053c-4cd7-aab2-fff83def26a3",
   "metadata": {},
   "outputs": [],
   "source": []
  }
 ],
 "metadata": {
  "kernelspec": {
   "display_name": "Python 3 (ipykernel)",
   "language": "python",
   "name": "python3"
  },
  "language_info": {
   "codemirror_mode": {
    "name": "ipython",
    "version": 3
   },
   "file_extension": ".py",
   "mimetype": "text/x-python",
   "name": "python",
   "nbconvert_exporter": "python",
   "pygments_lexer": "ipython3",
   "version": "3.9.7"
  }
 },
 "nbformat": 4,
 "nbformat_minor": 5
}
